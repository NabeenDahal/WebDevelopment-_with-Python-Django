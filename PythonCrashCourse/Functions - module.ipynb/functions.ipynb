{
 "cells": [
  {
   "cell_type": "code",
   "execution_count": 1,
   "metadata": {},
   "outputs": [
    {
     "name": "stdout",
     "output_type": "stream",
     "text": [
      "welcome to the corona zone\n"
     ]
    }
   ],
   "source": [
    "#creating a function\n",
    "def text():\n",
    "    print(\"welcome to the corona zone\")\n",
    "\n",
    "#calling a function\n",
    "text()"
   ]
  },
  {
   "cell_type": "code",
   "execution_count": 15,
   "metadata": {},
   "outputs": [
    {
     "name": "stdout",
     "output_type": "stream",
     "text": [
      "hello nabin\n",
      "hello nabin\n",
      "hello nabin dahal\n",
      "hello peace Nepal\n"
     ]
    }
   ],
   "source": [
    "#normal argument\n",
    "def hello(name):\n",
    "#\"\"\"Function that takes an argument in name and display hello {name}\"\"\"\n",
    "    print(f\"hello {name}\")\n",
    "#default argument\n",
    "def hello2(name=\"nabin\"):\n",
    "    print(f\"hello {name}\")\n",
    "#keyword arguments\n",
    "def hello3(fname,lname):\n",
    "    print(f\"hello {fname} {lname}\")\n",
    "hello('nabin')\n",
    "hello2()\n",
    "hello2('nabin dahal')\n",
    "a = 'peace'\n",
    "b = 'Nepal'\n",
    "hello3(fname=a,lname=b)"
   ]
  },
  {
   "cell_type": "code",
   "execution_count": 21,
   "metadata": {},
   "outputs": [
    {
     "name": "stdout",
     "output_type": "stream",
     "text": [
      "Hello\n",
      "Welcome\n",
      "to\n",
      "nepal\n",
      "kathmandu\n",
      "7\n",
      "1\n"
     ]
    }
   ],
   "source": [
    "#variable length arguments\n",
    "# *args\n",
    "#*args will be a tuple containing all values that are passed in.\n",
    "def args(*a):\n",
    " for ele in a:\n",
    "   print(ele)\n",
    "args('Hello', 'Welcome', 'to', 'nepal','kathmandu',7)\n",
    "args(1)"
   ]
  },
  {
   "cell_type": "code",
   "execution_count": 24,
   "metadata": {},
   "outputs": [
    {
     "name": "stdout",
     "output_type": "stream",
     "text": [
      "{'first': 'nepal', 'mid': 'ia a', 'last': 'landlock country'}\n",
      "<class 'dict'>\n"
     ]
    }
   ],
   "source": [
    "#**kwargs will be a dictionary containing the names as keys and the values as values\n",
    "def myFun(**a):\n",
    "    print(a)\n",
    "    print(type(a))\n",
    "\n",
    "myFun(first='nepal', mid='ia a', last='landlock country')   "
   ]
  },
  {
   "cell_type": "code",
   "execution_count": 25,
   "metadata": {},
   "outputs": [
    {
     "name": "stdout",
     "output_type": "stream",
     "text": [
      "hello nabin, how are you?\n"
     ]
    }
   ],
   "source": [
    "#function that returns\n",
    "def hello(name):\n",
    "    result = f\"hello {name}, how are you?\"\n",
    "    return result\n",
    "name = hello('nabin') #returning the function\n",
    "print(name)"
   ]
  },
  {
   "cell_type": "code",
   "execution_count": 29,
   "metadata": {},
   "outputs": [
    {
     "name": "stdout",
     "output_type": "stream",
     "text": [
      "2\n",
      "4\n"
     ]
    }
   ],
   "source": [
    "def absolute_value(num):\n",
    "#\"\"\"This function returns the absolutevalue of the entered number\"\"\"\n",
    "    if num >= 0:     #if num is a positive value then it show positive else the number less than zero will be multiple with - value which gives positive value in the result\n",
    "        return num\n",
    "    else:\n",
    "        return -num   \n",
    "\n",
    "print(absolute_value(2)) #absoulte returns value that returns absolute value even we put negative value in a num i.e 10 is 10 and -10 is also\n",
    "print(absolute_value(-4))"
   ]
  },
  {
   "cell_type": "code",
   "execution_count": 31,
   "metadata": {},
   "outputs": [
    {
     "name": "stdout",
     "output_type": "stream",
     "text": [
      "8\n"
     ]
    }
   ],
   "source": [
    "#lambda function\n",
    "l = lambda y:y*y*y # using condition in lambda function\n",
    "\n",
    "r = l(2)\n",
    "print(r)"
   ]
  },
  {
   "cell_type": "code",
   "execution_count": 33,
   "metadata": {},
   "outputs": [
    {
     "name": "stdout",
     "output_type": "stream",
     "text": [
      "[9, 18, 27, 36, 45]\n"
     ]
    }
   ],
   "source": [
    "#map function\n",
    "#map(function,sequence)\n",
    "\n",
    "l = [1,2,3,4,5]\n",
    "r = list(map(lambda x:x*9,l)) #using map funtion in lambda function and in l sequences\n",
    "print(r)"
   ]
  },
  {
   "cell_type": "code",
   "execution_count": 35,
   "metadata": {},
   "outputs": [
    {
     "name": "stdout",
     "output_type": "stream",
     "text": [
      "[12, 22, 28, 34]\n",
      "[5, 7, 9, 15, 25, 31]\n"
     ]
    }
   ],
   "source": [
    "#using filter function\n",
    "li = [5, 7, 9, 12, 15, 22, 25, 28, 31, 34]\n",
    "\n",
    "final_list = list(filter(lambda x: (x%2 ==0) , li))\n",
    "print(final_list)\n",
    "final_list = list(filter(lambda x: (x%2 ==1) , li))\n",
    "print(final_list)"
   ]
  }
 ],
 "metadata": {
  "interpreter": {
   "hash": "dcacb0086e9a4f4eabd41c33bf4faac5ea0a3337ed3f5eff0680afa930572c04"
  },
  "kernelspec": {
   "display_name": "Python 3.9.0 64-bit",
   "language": "python",
   "name": "python3"
  },
  "language_info": {
   "codemirror_mode": {
    "name": "ipython",
    "version": 3
   },
   "file_extension": ".py",
   "mimetype": "text/x-python",
   "name": "python",
   "nbconvert_exporter": "python",
   "pygments_lexer": "ipython3",
   "version": "3.9.0"
  },
  "orig_nbformat": 4
 },
 "nbformat": 4,
 "nbformat_minor": 2
}
