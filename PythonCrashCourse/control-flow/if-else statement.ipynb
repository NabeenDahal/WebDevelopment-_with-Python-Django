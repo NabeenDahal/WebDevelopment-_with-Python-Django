{
 "cells": [
  {
   "cell_type": "code",
   "execution_count": 5,
   "metadata": {},
   "outputs": [
    {
     "name": "stdout",
     "output_type": "stream",
     "text": [
      "i is greater than 15\n",
      "i'm in else Block\n",
      "i'm not in if and not in else Block\n",
      "\n",
      "\n",
      "i is smaller than 15\n",
      "i'm in if Block\n",
      "i'm not in if and not in else Block\n"
     ]
    }
   ],
   "source": [
    "#if else statement\n",
    "i = 30\n",
    "\n",
    "if (i < 20):\n",
    "\tprint(\"i is smaller than 15\")\n",
    "\tprint(\"i'm in if Block\")\n",
    "else:\n",
    "\tprint(\"i is greater than 15\")\n",
    "\tprint(\"i'm in else Block\")\n",
    "\n",
    "print(\"i'm not in if and not in else Block\")\n",
    "\n",
    "print(\"\\n\")\n",
    "\n",
    "if (i > 20):\n",
    "\tprint(\"i is smaller than 15\")\n",
    "\tprint(\"i'm in if Block\")\n",
    "else:\n",
    "\tprint(\"i is greater than 15\")\n",
    "\tprint(\"i'm in else Block\")\n",
    "\n",
    "print(\"i'm not in if and not in else Block\")"
   ]
  }
 ],
 "metadata": {
  "interpreter": {
   "hash": "dcacb0086e9a4f4eabd41c33bf4faac5ea0a3337ed3f5eff0680afa930572c04"
  },
  "kernelspec": {
   "display_name": "Python 3.9.0 64-bit",
   "language": "python",
   "name": "python3"
  },
  "language_info": {
   "codemirror_mode": {
    "name": "ipython",
    "version": 3
   },
   "file_extension": ".py",
   "mimetype": "text/x-python",
   "name": "python",
   "nbconvert_exporter": "python",
   "pygments_lexer": "ipython3",
   "version": "3.9.0"
  },
  "orig_nbformat": 4
 },
 "nbformat": 4,
 "nbformat_minor": 2
}
