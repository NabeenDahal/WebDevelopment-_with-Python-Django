{
 "cells": [
  {
   "cell_type": "code",
   "execution_count": 18,
   "metadata": {},
   "outputs": [
    {
     "name": "stdout",
     "output_type": "stream",
     "text": [
      "x is of type: <class 'int'>\n",
      "y is of type: <class 'float'>\n",
      "The value of x is  99.6\n",
      "x is of type: <class 'float'>\n"
     ]
    }
   ],
   "source": [
    "#implicit Type Conversion\n",
    "#python will automatically convert one data type to another\n",
    "#Python will not do any type conversion if the data types are the same\n",
    "x = 50\n",
    " \n",
    "print(\"x is of type:\",type(x))\n",
    " \n",
    "y = 49.6\n",
    "print(\"y is of type:\",type(y))\n",
    " \n",
    "x = x + y\n",
    " \n",
    "print(\"The value of x is \",x)\n",
    "print(\"x is of type:\",type(x))"
   ]
  },
  {
   "cell_type": "code",
   "execution_count": 19,
   "metadata": {},
   "outputs": [
    {
     "name": "stdout",
     "output_type": "stream",
     "text": [
      "456\n",
      "<class 'str'>\n",
      "456\n",
      "<class 'int'>\n",
      "456.0\n",
      "<class 'float'>\n"
     ]
    }
   ],
   "source": [
    "              #EXplicit Type conversion\n",
    "\n",
    "# the data type is manually changed by the user as per their requirement\n",
    "# int()  =>converts any data type to integer\n",
    "# float() =>convert any data type to a floating-point number \n",
    "# str()  =>convert any data type to a string\n",
    "# tuple() =>convert any data type to a tuple\n",
    "# set() =>convert any data type to a set\n",
    "# list() =>convert any data type to a list\n",
    "# dict()  =>convert any data type to a dictionary\n",
    "\n",
    "a = '456'\n",
    "print(a)\n",
    "print(type(a))\n",
    "\n",
    "\n",
    "num = int(a) #changing str into int using explicit type conversion\n",
    "\n",
    "print(num)\n",
    "print(type(num))\n",
    "\n",
    "\n",
    "float_num = float(a) #changing int into float using explicit type conversion\n",
    "print(float_num)\n",
    "print(type(float_num))"
   ]
  },
  {
   "cell_type": "code",
   "execution_count": 22,
   "metadata": {},
   "outputs": [
    {
     "name": "stdout",
     "output_type": "stream",
     "text": [
      "100\n",
      "100\n",
      "Datatype of a: <class 'int'>\n",
      "Datatype of b: <class 'str'>\n",
      "100\n",
      "datatype of s: <class 'str'>\n",
      "adding s and b: 100100\n",
      "The sum of a and b: 200\n",
      "<class 'int'>\n"
     ]
    }
   ],
   "source": [
    "a = 100\n",
    "b = '100'\n",
    "print(a)\n",
    "print(b)\n",
    "print(\"Datatype of a:\" ,type(a)) #checking the datatype of a\n",
    "print(\"Datatype of b:\" ,type(b)) #checking the datatype of b\n",
    "\n",
    "s = str(a)     #changing variable a into str\n",
    "print(s)\n",
    "print(\"datatype of s:\" ,type(s)) #checking  the datatype\n",
    "\n",
    "print(\"adding s and b:\" , s + b)   #adding str with str\n",
    "\n",
    "b = int(b)     #changing str into int\n",
    "\n",
    "sum = a + b   # adding int with int\n",
    "  \n",
    "print(\"The sum of a and b:\" ,sum)    #printing sum\n",
    "print(type(sum)) #checking datatypeo of a"
   ]
  },
  {
   "cell_type": "code",
   "execution_count": 26,
   "metadata": {},
   "outputs": [
    {
     "name": "stdout",
     "output_type": "stream",
     "text": [
      "python\n",
      "datatype of s : <class 'str'>\n",
      "['p', 'y', 't', 'h', 'o', 'n']\n",
      "datatype of l: <class 'list'>\n",
      "('p', 'y', 't', 'h', 'o', 'n')\n",
      "datatype of t: <class 'tuple'>\n",
      "{'y', 'n', 'h', 'o', 't', 'p'}\n",
      "datatype of s: <class 'set'>\n"
     ]
    }
   ],
   "source": [
    "s = 'python'\n",
    "print(s)    #printing varaiblr s\n",
    "print(\"datatype of s :\",type(s)) #checking the datatype of s\n",
    "\n",
    "\n",
    "l = list(s) # assigning variable s into l (list)\n",
    "print(l) \n",
    "print(\"datatype of l:\",type(l)) \n",
    "\n",
    "\n",
    "\n",
    "t = tuple(s) #assigning variable s into t (tuple) \n",
    "print(t)\n",
    "print(\"datatype of t:\",type(t))\n",
    "\n",
    "\n",
    "\n",
    "s1 = set(s) #assigning variable s into s1 (set)\n",
    "print(s1)\n",
    "print(\"datatype of s:\",type(s1))"
   ]
  },
  {
   "cell_type": "code",
   "execution_count": 31,
   "metadata": {},
   "outputs": [
    {
     "name": "stdout",
     "output_type": "stream",
     "text": [
      "(('a', 9), ('b', 8), ('c', 7))\n",
      "<class 'tuple'>\n",
      "{'a': 9, 'b': 8, 'c': 7}\n",
      "<class 'dict'>\n",
      "the value of b in dict is: 8\n"
     ]
    }
   ],
   "source": [
    "t1 = (('a', 9) ,('b', 8), ('c', 7)) \n",
    "print(t1)\n",
    "print(type(t1)) #checking datatype of t1\n",
    "d = dict(t1)   #converting tuple into dict by assinging t1 in dictionary function\n",
    "print(d)\n",
    "print(type(d)) #checking datatype of d\n",
    "print(\"the value of b in dict is:\",d['b']) #printing the specfic value of d "
   ]
  }
 ],
 "metadata": {
  "interpreter": {
   "hash": "dcacb0086e9a4f4eabd41c33bf4faac5ea0a3337ed3f5eff0680afa930572c04"
  },
  "kernelspec": {
   "display_name": "Python 3.9.0 64-bit",
   "language": "python",
   "name": "python3"
  },
  "language_info": {
   "codemirror_mode": {
    "name": "ipython",
    "version": 3
   },
   "file_extension": ".py",
   "mimetype": "text/x-python",
   "name": "python",
   "nbconvert_exporter": "python",
   "pygments_lexer": "ipython3",
   "version": "3.9.0"
  },
  "orig_nbformat": 4
 },
 "nbformat": 4,
 "nbformat_minor": 2
}
