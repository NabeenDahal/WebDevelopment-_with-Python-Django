{
 "cells": [
  {
   "cell_type": "code",
   "execution_count": 1,
   "metadata": {},
   "outputs": [
    {
     "name": "stdout",
     "output_type": "stream",
     "text": [
      "Hello, nabin\n",
      "<class 'str'>\n"
     ]
    }
   ],
   "source": [
    "# Taking input from the user\n",
    "name = input(\"Enter your name: \")\n",
    " \n",
    "# Output\n",
    "print(\"Hello, \" + name)\n",
    "result = type(name)\n",
    "print(result)"
   ]
  },
  {
   "cell_type": "code",
   "execution_count": 2,
   "metadata": {},
   "outputs": [
    {
     "name": "stdout",
     "output_type": "stream",
     "text": [
      "25\n"
     ]
    }
   ],
   "source": [
    "#Integer input in Python \n",
    "# Taking input from the user as integer\n",
    "num = int(input(\"Enter a number: \"))\n",
    "\n",
    "add = num * 5\n",
    "# Output\n",
    "print(add)"
   ]
  },
  {
   "cell_type": "code",
   "execution_count": 5,
   "metadata": {},
   "outputs": [
    {
     "name": "stdout",
     "output_type": "stream",
     "text": [
      "Python$%%\n",
      "P&&y&&t&&h&&o&&n@@"
     ]
    }
   ],
   "source": [
    "#Python Print output with custom sep and end parameter\n",
    "s = \"Python\"\n",
    "print(s,end=\"$%%\")\n",
    "print() \n",
    "print('P','y','t','h','o','n' ,sep=\"&&\",end=\"@@\") #sep = seperation , where end indicates @"
   ]
  },
  {
   "cell_type": "code",
   "execution_count": 7,
   "metadata": {},
   "outputs": [
    {
     "name": "stdout",
     "output_type": "stream",
     "text": [
      "Hello nabin\n",
      "Hello anything nabin\n",
      "The value of a is Hello and The value of b is nabin\n"
     ]
    }
   ],
   "source": [
    "#Python String formatting using F string and format()\n",
    "a = \"Hello\"\n",
    "b = \"nabin\"\n",
    "\n",
    "print(a,b)\n",
    "\n",
    "print('{} anything {}'.format(a,b))\n",
    "\n",
    "print(f\"The value of a is {a} and The value of b is {b}\")"
   ]
  }
 ],
 "metadata": {
  "interpreter": {
   "hash": "dcacb0086e9a4f4eabd41c33bf4faac5ea0a3337ed3f5eff0680afa930572c04"
  },
  "kernelspec": {
   "display_name": "Python 3.9.0 64-bit",
   "language": "python",
   "name": "python3"
  },
  "language_info": {
   "codemirror_mode": {
    "name": "ipython",
    "version": 3
   },
   "file_extension": ".py",
   "mimetype": "text/x-python",
   "name": "python",
   "nbconvert_exporter": "python",
   "pygments_lexer": "ipython3",
   "version": "3.9.0"
  },
  "orig_nbformat": 4
 },
 "nbformat": 4,
 "nbformat_minor": 2
}
