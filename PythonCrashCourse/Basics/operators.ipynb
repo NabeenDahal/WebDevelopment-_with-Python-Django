{
 "cells": [
  {
   "cell_type": "code",
   "execution_count": 1,
   "metadata": {},
   "outputs": [
    {
     "name": "stdout",
     "output_type": "stream",
     "text": [
      "25\n",
      "5\n",
      "150\n",
      "1.5\n",
      "1\n",
      "5\n",
      "576650390625\n"
     ]
    }
   ],
   "source": [
    "# Examples of Arithmetic Operator\n",
    "# a = '15' \n",
    "# b = '10'\n",
    "a = 15\n",
    "b = 10\n",
    "\n",
    "# Addition of numbers\n",
    "add = a + b  \n",
    "\n",
    "# Subtraction of numbers\n",
    "sub = a - b\n",
    "\n",
    "# Multiplication of number\n",
    "mul = a * b\n",
    "\n",
    "# Division(float) of number\n",
    "#float= numeric value with decimal\n",
    "div1 = a / b  \n",
    "\n",
    "# Division(floor) of number\n",
    "#floor = roundfigure value eg 2.25 changes into 2 only \n",
    "div2 = a // b\n",
    "\n",
    "# Modulo of both number\n",
    "#modulo= reminder eg: 5/2= 1 remainder i.e modulo\n",
    "mod = a % b\n",
    "\n",
    "# Power\n",
    "\n",
    "p = a ** b\n",
    "\n",
    "# print results\n",
    "print(add) #printing the value of a+b\n",
    "print(sub) #printing the value of a-b\n",
    "print(mul) #printing the value of a*b\n",
    "print(div1) #printing the value of a/b\n",
    "print(div2) #printing the value of a//b\n",
    "print(mod) #printing the value of a%b\n",
    "print(p) #printing the value of power a**b"
   ]
  },
  {
   "cell_type": "code",
   "execution_count": 2,
   "metadata": {},
   "outputs": [
    {
     "name": "stdout",
     "output_type": "stream",
     "text": [
      "False\n",
      "False\n",
      "True\n",
      "False\n",
      "True\n",
      "True\n"
     ]
    }
   ],
   "source": [
    "#comparision operator\n",
    "# Examples of Relational Operators\n",
    "a = 11\n",
    "b = 11\n",
    "\n",
    "# a > b is False\n",
    "print(a > b)\n",
    "\n",
    "# a < b is false\n",
    "print(a < b)\n",
    "\n",
    "# a == b is true\n",
    "print(a == b)\n",
    "\n",
    "# a != b is false\n",
    "print(a != b)\n",
    "\n",
    "# a >= b is False\n",
    "print(a >= b)  #a > b or a == b\n",
    "                 #false or true => true \n",
    "                 # # in or condition if 1 condition is true and another 1 is false then whole condition will be true\n",
    "# a <= b is True\n",
    "print(a <= b)"
   ]
  },
  {
   "cell_type": "code",
   "execution_count": 5,
   "metadata": {},
   "outputs": [
    {
     "name": "stdout",
     "output_type": "stream",
     "text": [
      "<class 'bool'>\n",
      "False\n",
      "True\n",
      "False\n"
     ]
    }
   ],
   "source": [
    "#Logical Operator\n",
    "# Examples of Logical Operator\n",
    "\n",
    "a = True\n",
    "b = False\n",
    "\n",
    "print(type(a)) #printing the datatype of a\n",
    "\n",
    "print(a and b) #checking the condition with \"and\" logical operator and  printing  the result of \"a\" and \"b\" \n",
    "\n",
    "\n",
    "print(a or b) #checking the condition with \"or\" logical operator and printing the value of  \"a\" and \"b\"\n",
    "\n",
    "print(not a) # making a condition into its negative/opposite eg: a = true into a = false"
   ]
  },
  {
   "cell_type": "code",
   "execution_count": 6,
   "metadata": {},
   "outputs": [
    {
     "name": "stdout",
     "output_type": "stream",
     "text": [
      "15\n",
      "24\n",
      "9\n",
      "135\n"
     ]
    }
   ],
   "source": [
    "#Assign operators\n",
    "# Examples of Assignment Operators\n",
    "a = 15\n",
    "\n",
    "# Assign value of b equal to a\n",
    "b = a\n",
    "print(b)\n",
    "\n",
    "# Add and assign value of result into b and printing the new assign value\n",
    "b += 9   #b = b + 9\n",
    "print(b)\n",
    "\n",
    "# Subtract and assign value of result  into b and printing the new assign value\n",
    "b -= a   #b = b - a\n",
    "print(b)\n",
    "\n",
    "# multiply and assign value of result into b  and printing the new assign value\n",
    "b *= a  #b = b * a\n",
    "print(b)"
   ]
  },
  {
   "cell_type": "code",
   "execution_count": 9,
   "metadata": {},
   "outputs": [
    {
     "name": "stdout",
     "output_type": "stream",
     "text": [
      "False\n",
      "True\n",
      "True\n",
      "False\n",
      "True\n",
      "False\n"
     ]
    }
   ],
   "source": [
    "#identity operators\n",
    "a = 50\n",
    "b = 20\n",
    "c = 50\n",
    "d = a\n",
    "#checking the condition  with is and isnot operator and printing its boolean value \n",
    "print(a is b)\n",
    "print(a is not b)\n",
    "print(a is c)\n",
    "print(a is not c)\n",
    "print(a is d)\n",
    "print(a is not d)"
   ]
  },
  {
   "cell_type": "code",
   "execution_count": 1,
   "metadata": {},
   "outputs": [
    {
     "name": "stdout",
     "output_type": "stream",
     "text": [
      "x is present in given list\n",
      "y is present in given list\n"
     ]
    }
   ],
   "source": [
    "#Membership operators\n",
    "# \"in\" and not operators\n",
    "x = 55\n",
    "y = 91\n",
    "list = [455, 230,55, 91, 59]\n",
    "\n",
    "if (x not in list):   #checking the list to find the value of x is listed or not in list or not and prints the results\n",
    "\tprint(\"x is NOT present in given list\")\n",
    "else:\n",
    "\tprint(\"x is present in given list\")\n",
    "\n",
    "if (y in list):  #checking the list to find the value of y is listed or not in list or not and prints the results\n",
    "\tprint(\"y is present in given list\")\n",
    "else:\n",
    "\tprint(\"y is NOT present in given list\")"
   ]
  },
  {
   "cell_type": "code",
   "execution_count": 1,
   "metadata": {},
   "outputs": [
    {
     "name": "stdout",
     "output_type": "stream",
     "text": [
      "40\n",
      "False\n",
      "True\n"
     ]
    }
   ],
   "source": [
    "#Operator Precedence\n",
    "# Examples of Operator Precedence\n",
    "\n",
    "# Precedence of '+' & '*'\n",
    "expr = 16 + 8* 3\n",
    "print(expr)\n",
    "\n",
    "# Precedence of 'or' & 'and'\n",
    "name = \"nabin\"\n",
    "age = 23\n",
    "print(name == \"nabin\" and age == 22)\n",
    "print(name == \"nabin\" or name == \"ram\" and age >= 20)\n"
   ]
  }
 ],
 "metadata": {
  "interpreter": {
   "hash": "dcacb0086e9a4f4eabd41c33bf4faac5ea0a3337ed3f5eff0680afa930572c04"
  },
  "kernelspec": {
   "display_name": "Python 3.9.0 64-bit",
   "language": "python",
   "name": "python3"
  },
  "language_info": {
   "codemirror_mode": {
    "name": "ipython",
    "version": 3
   },
   "file_extension": ".py",
   "mimetype": "text/x-python",
   "name": "python",
   "nbconvert_exporter": "python",
   "pygments_lexer": "ipython3",
   "version": "3.9.0"
  },
  "orig_nbformat": 4
 },
 "nbformat": 4,
 "nbformat_minor": 2
}
