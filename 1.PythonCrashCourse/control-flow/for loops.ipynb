{
 "cells": [
  {
   "cell_type": "code",
   "execution_count": 3,
   "metadata": {},
   "outputs": [
    {
     "name": "stdout",
     "output_type": "stream",
     "text": [
      "H\n",
      "e\n",
      "l\n",
      "l\n",
      "o\n",
      " \n",
      "n\n",
      "a\n",
      "b\n",
      "i\n",
      "n\n"
     ]
    }
   ],
   "source": [
    "#for loop condition \n",
    "s = \"Hello nabin\"\n",
    "\n",
    "l = list(s)  #converting str into list\n",
    "for a in l:   #using for loop \n",
    "    print(a)"
   ]
  },
  {
   "cell_type": "code",
   "execution_count": 4,
   "metadata": {},
   "outputs": [
    {
     "name": "stdout",
     "output_type": "stream",
     "text": [
      "Hello\n",
      "corona\n",
      "virus\n",
      "1\n",
      "2\n",
      "3\n",
      "hello\n",
      "corona\n",
      "virus\n",
      "v\n",
      "i\n",
      "r\n",
      "u\n",
      "s\n"
     ]
    }
   ],
   "source": [
    "# Python program to illustrate\n",
    "# Iterating over a list\n",
    "l = [\"Hello\", \"corona\", \"virus\",1,2,3]\n",
    "for i in l:\n",
    "\tprint(i)\n",
    "\n",
    "# Iterating over a tuple (immutable)\n",
    "t = (\"hello\", \"corona\", \"virus\")\n",
    "for i in t:\n",
    "\tprint(i)\n",
    "\n",
    "# Iterating over a String\n",
    "s = \"virus\"\n",
    "for i in s:\n",
    "\tprint(i)"
   ]
  },
  {
   "cell_type": "code",
   "execution_count": 8,
   "metadata": {},
   "outputs": [
    {
     "name": "stdout",
     "output_type": "stream",
     "text": [
      "a : 12\n",
      "b : 24\n",
      "c : 36\n"
     ]
    }
   ],
   "source": [
    "# Iterating over dictionary\n",
    "d = {'a': 12, 'b': 24, 'c': 36}\n",
    "\n",
    "for i in d:\n",
    "    print(f\"{i} : {d[i]}\") #printing in f format"
   ]
  }
 ],
 "metadata": {
  "interpreter": {
   "hash": "dcacb0086e9a4f4eabd41c33bf4faac5ea0a3337ed3f5eff0680afa930572c04"
  },
  "kernelspec": {
   "display_name": "Python 3.9.0 64-bit",
   "language": "python",
   "name": "python3"
  },
  "language_info": {
   "codemirror_mode": {
    "name": "ipython",
    "version": 3
   },
   "file_extension": ".py",
   "mimetype": "text/x-python",
   "name": "python",
   "nbconvert_exporter": "python",
   "pygments_lexer": "ipython3",
   "version": "3.9.0"
  },
  "orig_nbformat": 4
 },
 "nbformat": 4,
 "nbformat_minor": 2
}
