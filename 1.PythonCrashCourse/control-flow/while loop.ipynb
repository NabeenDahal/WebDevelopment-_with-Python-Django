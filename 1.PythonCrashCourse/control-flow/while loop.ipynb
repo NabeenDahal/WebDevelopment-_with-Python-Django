{
 "cells": [
  {
   "cell_type": "code",
   "execution_count": 1,
   "metadata": {},
   "outputs": [
    {
     "name": "stdout",
     "output_type": "stream",
     "text": [
      "Hello corona virus\n",
      "Hello corona virus\n",
      "Hello corona virus\n"
     ]
    }
   ],
   "source": [
    "# Python program to illustrate\n",
    "# while loop\n",
    "count = 0\n",
    "while (count < 3):   #using while loops using condition i.e   count <3 to limit the loop \n",
    "\tcount = count + 1\n",
    "\tprint(\"Hello corona virus\")"
   ]
  },
  {
   "cell_type": "code",
   "execution_count": 6,
   "metadata": {},
   "outputs": [
    {
     "name": "stdout",
     "output_type": "stream",
     "text": [
      "the addition of a and b is : 14\n",
      "the addition of a and b is : 14\n",
      "the addition of a and b is : 14\n"
     ]
    }
   ],
   "source": [
    "# Python program to illustrate\n",
    "# while loop\n",
    "count = 0\n",
    "a=5\n",
    "b=9\n",
    "sum=a+b\n",
    "while (count < 3):   #using while loops using condition i.e   count <3 to limit the loop \n",
    "    print(\"the addition of a and b is :\",sum)\n",
    "    count = count + 1\n"
   ]
  },
  {
   "cell_type": "code",
   "execution_count": 2,
   "metadata": {},
   "outputs": [
    {
     "name": "stdout",
     "output_type": "stream",
     "text": [
      "Hello corona virus\n",
      "Hello corona virus\n",
      "Hello corona virus\n",
      "Hello corona virus\n",
      "Hello corona virus\n",
      "Hello corona virus\n",
      "Hello corona virus\n",
      "Hello corona virus\n",
      "Hello corona virus\n"
     ]
    }
   ],
   "source": [
    "# Python program to illustrate\n",
    "# while loop\n",
    "count = 0\n",
    "while (count < 9):   #using while loops using condition i.e   count <9 to limit the loop \n",
    "\tcount = count + 1\n",
    "\tprint(\"Hello corona virus\")"
   ]
  }
 ],
 "metadata": {
  "interpreter": {
   "hash": "dcacb0086e9a4f4eabd41c33bf4faac5ea0a3337ed3f5eff0680afa930572c04"
  },
  "kernelspec": {
   "display_name": "Python 3.9.0 64-bit",
   "language": "python",
   "name": "python3"
  },
  "language_info": {
   "codemirror_mode": {
    "name": "ipython",
    "version": 3
   },
   "file_extension": ".py",
   "mimetype": "text/x-python",
   "name": "python",
   "nbconvert_exporter": "python",
   "pygments_lexer": "ipython3",
   "version": "3.9.0"
  },
  "orig_nbformat": 4
 },
 "nbformat": 4,
 "nbformat_minor": 2
}
