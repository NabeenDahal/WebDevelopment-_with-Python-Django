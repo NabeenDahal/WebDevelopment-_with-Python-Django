{
 "cells": [
  {
   "cell_type": "code",
   "execution_count": 3,
   "metadata": {},
   "outputs": [
    {
     "name": "stdout",
     "output_type": "stream",
     "text": [
      "n\n",
      "e\n",
      "p\n",
      "a\n",
      "l\n",
      " \n",
      "i\n",
      "s\n",
      " \n",
      "a\n",
      " \n",
      "c\n",
      "Out of for loop\n"
     ]
    }
   ],
   "source": [
    "#break condition\n",
    "text = 'nepal is a country' \n",
    "\n",
    "for i in text:   #using for loop\n",
    "\tif i == 'o': #using i condition\n",
    "\t\tbreak    #using break statement to break the loop\n",
    "\tprint(i)\n",
    "\n",
    "\n",
    "print(\"Out of for loop\") "
   ]
  },
  {
   "cell_type": "code",
   "execution_count": 2,
   "metadata": {},
   "outputs": [
    {
     "name": "stdout",
     "output_type": "stream",
     "text": [
      "n\n",
      "e\n",
      "p\n",
      "a\n",
      " \n",
      "i\n",
      "s\n",
      " \n",
      "a\n",
      " \n",
      "c\n",
      "o\n",
      "u\n",
      "n\n",
      "t\n",
      "r\n",
      "Out of for loop\n",
      "\n"
     ]
    }
   ],
   "source": [
    "#\n",
    "text = 'nepal is a country'\n",
    "\n",
    "for letter in text:\n",
    "\tif letter == 'l' or letter == 'y':\n",
    "\t\tcontinue    # continue act as skip if the condition is true and start the loops again without printing the true value\n",
    "\tprint(letter)\n",
    "\n",
    "print(\"Out of for loop\")\n",
    "print()"
   ]
  },
  {
   "cell_type": "code",
   "execution_count": 4,
   "metadata": {},
   "outputs": [
    {
     "name": "stdout",
     "output_type": "stream",
     "text": [
      "3\n",
      "5\n",
      "9\n"
     ]
    }
   ],
   "source": [
    "#using pass \n",
    "li =['3', '5', '7', '9']\n",
    "\n",
    "for i in li:\n",
    "\tif(i =='7'):\n",
    "\t\tpass    #pass ignore the true condition and start the loop without printing\n",
    "\telse:\n",
    "\t\tprint(i)"
   ]
  }
 ],
 "metadata": {
  "interpreter": {
   "hash": "dcacb0086e9a4f4eabd41c33bf4faac5ea0a3337ed3f5eff0680afa930572c04"
  },
  "kernelspec": {
   "display_name": "Python 3.9.0 64-bit",
   "language": "python",
   "name": "python3"
  },
  "language_info": {
   "codemirror_mode": {
    "name": "ipython",
    "version": 3
   },
   "file_extension": ".py",
   "mimetype": "text/x-python",
   "name": "python",
   "nbconvert_exporter": "python",
   "pygments_lexer": "ipython3",
   "version": "3.9.0"
  },
  "orig_nbformat": 4
 },
 "nbformat": 4,
 "nbformat_minor": 2
}
