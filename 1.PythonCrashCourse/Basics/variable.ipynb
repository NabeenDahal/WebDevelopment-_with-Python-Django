{
 "cells": [
  {
   "cell_type": "code",
   "execution_count": 1,
   "metadata": {},
   "outputs": [
    {
     "name": "stdout",
     "output_type": "stream",
     "text": [
      "20\n",
      "5555.55\n",
      "nabin\n"
     ]
    }
   ],
   "source": [
    "# Rules for creating variables in Python:\n",
    "# A variable name must start with a letter or the underscore character.\n",
    "# A variable name cannot start with a number.\n",
    "# A variable name can only contain alpha-numeric characters and underscores (A-z, 0-9, and _ ).\n",
    "# Variable names are case-sensitive (name, Name and NAME are three different variables).\n",
    "# The reserved words(keywords) cannot be used naming the variable.\n",
    "\n",
    "# An integer assignment\n",
    "age = 20  #variable declaration\n",
    "  \n",
    "# A floating point\n",
    "salary_1 = 5555.55\n",
    "\n",
    "# A string\n",
    "_name = \"nabin\"\n",
    "  \n",
    "print(age)\n",
    "print(salary_1)\n",
    "print(_name)\n"
   ]
  },
  {
   "cell_type": "code",
   "execution_count": 2,
   "metadata": {},
   "outputs": [
    {
     "name": "stdout",
     "output_type": "stream",
     "text": [
      "30\n",
      "90000\n",
      "mukesh\n"
     ]
    }
   ],
   "source": [
    "# redeclaring the variable\n",
    "age = 20\n",
    "age = 30\n",
    "\n",
    "salary = 90000\n",
    "\n",
    "name = \"mukesh\"\n",
    " \n",
    "# displaying the results\n",
    "print(age)\n",
    "print(salary)\n",
    "print(name)"
   ]
  },
  {
   "cell_type": "code",
   "execution_count": 4,
   "metadata": {},
   "outputs": [
    {
     "name": "stdout",
     "output_type": "stream",
     "text": [
      "55\n",
      "55\n",
      "55\n"
     ]
    }
   ],
   "source": [
    "#Assigning a single value to multiple variables: \n",
    "a = b = c = 55\n",
    "# a = 10\n",
    "# b = 10\n",
    "# c = 10\n",
    "  \n",
    "print(a)\n",
    "print(b)\n",
    "print(c)"
   ]
  },
  {
   "cell_type": "code",
   "execution_count": 5,
   "metadata": {},
   "outputs": [
    {
     "name": "stdout",
     "output_type": "stream",
     "text": [
      "11\n",
      "99.99\n",
      "Python with django\n"
     ]
    }
   ],
   "source": [
    "#Assigning different values to multiple variables: \n",
    "a, b, c = 11, 99.99, 'Python with django'\n",
    "# a = 11\n",
    "# b = 99.99\n",
    "# c = \"Python with django\"\n",
    "print(a)\n",
    "print(b)\n",
    "print(c)"
   ]
  },
  {
   "cell_type": "code",
   "execution_count": 6,
   "metadata": {},
   "outputs": [
    {
     "name": "stdout",
     "output_type": "stream",
     "text": [
      "30\n",
      "nabindahal\n"
     ]
    }
   ],
   "source": [
    "#  How does + operator work with variables? \n",
    "\n",
    "a = 10  # integer\n",
    "b = 20  # integer\n",
    "print(a+b) \n",
    "  \n",
    "a = \"nabin\" #str\n",
    "b = \"dahal\" #str\n",
    "print(a+b)"
   ]
  },
  {
   "cell_type": "code",
   "execution_count": 7,
   "metadata": {},
   "outputs": [
    {
     "ename": "TypeError",
     "evalue": "can only concatenate str (not \"int\") to str",
     "output_type": "error",
     "traceback": [
      "\u001b[1;31m---------------------------------------------------------------------------\u001b[0m",
      "\u001b[1;31mTypeError\u001b[0m                                 Traceback (most recent call last)",
      "\u001b[1;32m~\\AppData\\Local\\Temp/ipykernel_11368/986946708.py\u001b[0m in \u001b[0;36m<module>\u001b[1;34m\u001b[0m\n\u001b[0;32m      2\u001b[0m \u001b[0ma\u001b[0m \u001b[1;33m=\u001b[0m \u001b[1;34m\"10\"\u001b[0m\u001b[1;33m\u001b[0m\u001b[1;33m\u001b[0m\u001b[0m\n\u001b[0;32m      3\u001b[0m \u001b[0mb\u001b[0m \u001b[1;33m=\u001b[0m \u001b[1;36m5\u001b[0m\u001b[1;33m\u001b[0m\u001b[1;33m\u001b[0m\u001b[0m\n\u001b[1;32m----> 4\u001b[1;33m \u001b[0mprint\u001b[0m\u001b[1;33m(\u001b[0m\u001b[0ma\u001b[0m\u001b[1;33m+\u001b[0m\u001b[0mb\u001b[0m\u001b[1;33m)\u001b[0m\u001b[1;33m\u001b[0m\u001b[1;33m\u001b[0m\u001b[0m\n\u001b[0m",
      "\u001b[1;31mTypeError\u001b[0m: can only concatenate str (not \"int\") to str"
     ]
    }
   ],
   "source": [
    "#Can we use + for different types also? \n",
    "a = \"10\" \n",
    "b = 5\n",
    "print(a+b)\n",
    "#result : we cannot add different types"
   ]
  }
 ],
 "metadata": {
  "interpreter": {
   "hash": "dcacb0086e9a4f4eabd41c33bf4faac5ea0a3337ed3f5eff0680afa930572c04"
  },
  "kernelspec": {
   "display_name": "Python 3.9.0 64-bit",
   "language": "python",
   "name": "python3"
  },
  "language_info": {
   "codemirror_mode": {
    "name": "ipython",
    "version": 3
   },
   "file_extension": ".py",
   "mimetype": "text/x-python",
   "name": "python",
   "nbconvert_exporter": "python",
   "pygments_lexer": "ipython3",
   "version": "3.9.0"
  },
  "orig_nbformat": 4
 },
 "nbformat": 4,
 "nbformat_minor": 2
}
