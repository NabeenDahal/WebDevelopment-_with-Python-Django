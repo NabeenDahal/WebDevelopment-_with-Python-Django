{
 "cells": [
  {
   "cell_type": "code",
   "execution_count": 1,
   "metadata": {},
   "outputs": [
    {
     "name": "stdout",
     "output_type": "stream",
     "text": [
      "Type of a:  <class 'int'>\n",
      "the value of a is:  10\n",
      "\n",
      "Type of b:  <class 'float'>\n",
      "the value of b is:  10.0\n",
      "\n",
      "Type of c:  <class 'complex'>\n"
     ]
    }
   ],
   "source": [
    "#numeric data types\n",
    "#here we have 3 types of numeric data types\n",
    "#1.int\n",
    "#2.float\n",
    "#3.complex\n",
    "\n",
    "a = 10\n",
    "print(\"Type of a: \", type(a))\n",
    "print(\"the value of a is: \", a)\n",
    "#int represent the numeric value without decimal\n",
    "b = 10.0\n",
    "print(\"\\nType of b: \", type(b))\n",
    "print(\"the value of b is: \", b)\n",
    "#float represents the numeric value with decimal \n",
    "c = 5 + 9j\n",
    "print(\"\\nType of c: \", type(c))\n",
    "#complex represents the complex value or a equation"
   ]
  },
  {
   "cell_type": "code",
   "execution_count": 2,
   "metadata": {},
   "outputs": [
    {
     "name": "stdout",
     "output_type": "stream",
     "text": [
      "python runs fast <class 'str'>\n",
      "python is a programming language <class 'str'>\n",
      "python is a snake <class 'str'>\n",
      "python django <class 'str'>\n"
     ]
    }
   ],
   "source": [
    "#sequence data types\n",
    "#we have 3 datatypes in sequence datatypes\n",
    "#string\n",
    "#list\n",
    "#tuple\n",
    "\n",
    "#creating a string\n",
    "s = 'python runs fast'\n",
    "s1 = \"python is a programming language\"\n",
    "s2 = '''python is a snake'''\n",
    "s3 = \"\"\"python django\"\"\"\n",
    "print(s,type(s))\n",
    "print(s1,type(s1))\n",
    "print(s2,type(s2))\n",
    "print(s3,type(s3))"
   ]
  },
  {
   "cell_type": "code",
   "execution_count": 3,
   "metadata": {},
   "outputs": [
    {
     "name": "stdout",
     "output_type": "stream",
     "text": [
      "n\n",
      "a\n",
      "i\n",
      "i\n",
      "n\n"
     ]
    }
   ],
   "source": [
    "#we can acess the element of string as they can be identified as a indicing so,\n",
    "#Accessing elements of String from left to right\n",
    "w = \"nepali\"\n",
    "acess = w[0]\n",
    "print(acess)  #> n\n",
    "print(w[3])  #> a\n",
    "print(w[5])  #> i\n",
    "#here we acessing the elements from right to left so when u try to acess from right to left the figure start from the last digit with negative 1\n",
    "print(w[-1])\n",
    "print(w[-6])"
   ]
  },
  {
   "cell_type": "code",
   "execution_count": 4,
   "metadata": {},
   "outputs": [
    {
     "name": "stdout",
     "output_type": "stream",
     "text": [
      "[1, 2, 3, 4, 5, 6, 7, 8, 9, 'a', 'b', 'c', 'd', 'e', 'f', 'g', 'h', 'i']\n",
      "1\n",
      "i\n",
      "<class 'list'>\n"
     ]
    }
   ],
   "source": [
    "#list\n",
    "\n",
    "li = [1,2,3,4,5,6,7,8,9,\"a\",\"b\",\"c\",\"d\",\"e\",\"f\",\"g\",\"h\",\"i\"] #this is how we represent list\n",
    "print(li) #here printing the list \n",
    "print(li[0]) #printing the 0 index elements of the list\n",
    "print(li[-1]) #printing the last elements from right to left\n",
    "print(type(li)) #printing the type of li"
   ]
  },
  {
   "cell_type": "code",
   "execution_count": 6,
   "metadata": {},
   "outputs": [
    {
     "name": "stdout",
     "output_type": "stream",
     "text": [
      "(1, 2, 3, 4, 5, 'django')\n",
      "1\n",
      "django\n",
      "<class 'tuple'>\n"
     ]
    }
   ],
   "source": [
    "#tuple\n",
    "tup = (1,2,3,4,5,'django')\n",
    "print(tup)\n",
    "print(tup[0])\n",
    "print(tup[-1])\n",
    "print(type(tup))"
   ]
  },
  {
   "cell_type": "code",
   "execution_count": 8,
   "metadata": {},
   "outputs": [
    {
     "name": "stdout",
     "output_type": "stream",
     "text": [
      "False\n",
      "True\n",
      "False\n",
      "True\n",
      "<class 'bool'>\n",
      "<class 'bool'>\n",
      "<class 'bool'>\n",
      "<class 'bool'>\n"
     ]
    }
   ],
   "source": [
    "#Boolean => true or false\n",
    "a = False\n",
    "b = True\n",
    "c = False\n",
    "d = True\n",
    "print(a) #printing a \n",
    "print(b) #printing b\n",
    "print(c) #printing c \n",
    "print(d) #printing d \n",
    "print(type(a)) #printing the datatype of a \n",
    "print(type(b))#printing the datatype of b\n",
    "print(type(c))#printing the datatype of c\n",
    "print(type(d))#printing the datatype of d"
   ]
  },
  {
   "cell_type": "code",
   "execution_count": 16,
   "metadata": {},
   "outputs": [
    {
     "name": "stdout",
     "output_type": "stream",
     "text": [
      "{1, 2, 3, 4, 5}\n",
      "<class 'set'>\n"
     ]
    }
   ],
   "source": [
    "#set\n",
    "s = {1,2,3,4,5,5}\n",
    "print(s) #printing s\n",
    "print(type(s)) #datatypes of s\n"
   ]
  },
  {
   "cell_type": "code",
   "execution_count": 18,
   "metadata": {},
   "outputs": [
    {
     "name": "stdout",
     "output_type": "stream",
     "text": [
      "{'a': 1, 'b': 2, 'c': 3}\n",
      "1\n",
      "2\n",
      "3\n",
      "<class 'dict'>\n",
      "{'name': 'nabin', 'age': 22, 'marks': [50, 50, 50]}\n",
      "[50, 50, 50]\n",
      "22\n"
     ]
    }
   ],
   "source": [
    "#dictionary\n",
    "d = {'a':1,'b':2,'c':3}\n",
    "print(d)\n",
    "print(d['a'])\n",
    "print(d['b'])\n",
    "print(d['c'])\n",
    "print(type(d))\n",
    "students = {\n",
    "    'name':'nabin',\n",
    "    'age':22,\n",
    "    'marks':[50,50,50]\n",
    "}\n",
    "print(students)\n",
    "\n",
    "print(students['marks'])\n",
    "print(students.get('age'))"
   ]
  },
  {
   "cell_type": "code",
   "execution_count": null,
   "metadata": {},
   "outputs": [],
   "source": []
  }
 ],
 "metadata": {
  "interpreter": {
   "hash": "dcacb0086e9a4f4eabd41c33bf4faac5ea0a3337ed3f5eff0680afa930572c04"
  },
  "kernelspec": {
   "display_name": "Python 3.9.0 64-bit",
   "language": "python",
   "name": "python3"
  },
  "language_info": {
   "codemirror_mode": {
    "name": "ipython",
    "version": 3
   },
   "file_extension": ".py",
   "mimetype": "text/x-python",
   "name": "python",
   "nbconvert_exporter": "python",
   "pygments_lexer": "ipython3",
   "version": "3.9.0"
  },
  "orig_nbformat": 4
 },
 "nbformat": 4,
 "nbformat_minor": 2
}
